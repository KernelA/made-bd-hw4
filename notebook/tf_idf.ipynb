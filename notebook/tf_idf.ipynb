{
 "cells": [
  {
   "cell_type": "code",
   "execution_count": null,
   "id": "8ed4f322-9db3-4e29-b8f0-c5f70141f2b1",
   "metadata": {},
   "outputs": [],
   "source": [
    "spark"
   ]
  },
  {
   "cell_type": "code",
   "execution_count": 1,
   "id": "14ca5409-ba34-4e7b-84f9-dce952767c5b",
   "metadata": {},
   "outputs": [
    {
     "data": {
      "text/plain": [
       "Intitializing Scala interpreter ..."
      ]
     },
     "metadata": {},
     "output_type": "display_data"
    },
    {
     "data": {
      "text/plain": [
       "Spark Web UI available at http://bf2c77dcebef:4040\n",
       "SparkContext available as 'sc' (version = 3.1.1, master = local[*], app id = local-1635377626546)\n",
       "SparkSession available as 'spark'\n"
      ]
     },
     "metadata": {},
     "output_type": "display_data"
    },
    {
     "data": {
      "text/plain": [
       "import org.apache.spark.sql._\n",
       "import spark.implicits._\n",
       "import org.apache.spark.sql.types._\n"
      ]
     },
     "execution_count": 1,
     "metadata": {},
     "output_type": "execute_result"
    }
   ],
   "source": [
    "import org.apache.spark.sql._\n",
    "import spark.implicits._\n",
    "import org.apache.spark.sql.types._"
   ]
  },
  {
   "cell_type": "code",
   "execution_count": 2,
   "id": "93be740d-da16-455a-a9c5-1d633a7cfdda",
   "metadata": {},
   "outputs": [
    {
     "data": {
      "text/plain": [
       "spark: org.apache.spark.sql.SparkSession = org.apache.spark.sql.SparkSession@5964df80\n"
      ]
     },
     "execution_count": 2,
     "metadata": {},
     "output_type": "execute_result"
    }
   ],
   "source": [
    "val spark = SparkSession.builder()\n",
    "    .master(\"local[*]\")\n",
    "    .appName(\"hw4\")\n",
    "    .getOrCreate()"
   ]
  },
  {
   "cell_type": "code",
   "execution_count": 3,
   "id": "143c1b5a-d2f0-480b-9236-4f15b5060099",
   "metadata": {},
   "outputs": [
    {
     "data": {
      "text/plain": [
       "data: org.apache.spark.sql.DataFrame = [Review: string]\n",
       "data: org.apache.spark.sql.DataFrame = [Review: string]\n"
      ]
     },
     "execution_count": 3,
     "metadata": {},
     "output_type": "execute_result"
    }
   ],
   "source": [
    "var data = spark.read.option(\"header\", \"true\")\n",
    "    .option(\"inferSchema\", \"true\")\n",
    "    .option(\"sep\", \",\").csv(\"/mnt/data/tripadvisor_hotel_reviews.csv\")\n",
    "\n",
    "data = data.select(\"Review\")"
   ]
  },
  {
   "cell_type": "code",
   "execution_count": 4,
   "id": "e4dd5bfb-2193-4a9c-851f-fbec8599aeae",
   "metadata": {},
   "outputs": [
    {
     "name": "stdout",
     "output_type": "stream",
     "text": [
      "+--------------------+\n",
      "|              Review|\n",
      "+--------------------+\n",
      "|nice hotel expens...|\n",
      "|ok nothing specia...|\n",
      "|nice rooms not 4*...|\n",
      "|unique, great sta...|\n",
      "|great stay great ...|\n",
      "+--------------------+\n",
      "only showing top 5 rows\n",
      "\n"
     ]
    }
   ],
   "source": [
    "data.show(5)"
   ]
  },
  {
   "cell_type": "code",
   "execution_count": 6,
   "id": "cfff35d1-55f0-4ede-9bc9-3f201c9abfaf",
   "metadata": {},
   "outputs": [
    {
     "name": "stdout",
     "output_type": "stream",
     "text": [
      "root\n",
      " |-- Review: string (nullable = true)\n",
      "\n"
     ]
    }
   ],
   "source": [
    "data.printSchema"
   ]
  },
  {
   "cell_type": "code",
   "execution_count": 7,
   "id": "d1dc388e-0858-4700-93dc-e46b361593d9",
   "metadata": {},
   "outputs": [
    {
     "data": {
      "text/plain": [
       "res3: Long = 20491\n"
      ]
     },
     "execution_count": 7,
     "metadata": {},
     "output_type": "execute_result"
    }
   ],
   "source": [
    "data.count"
   ]
  },
  {
   "cell_type": "code",
   "execution_count": 8,
   "id": "d708591f-b3a3-4fed-98bb-7086104d5afe",
   "metadata": {},
   "outputs": [
    {
     "data": {
      "text/plain": [
       "dataWithoutNan: org.apache.spark.sql.DataFrame = [Review: string]\n"
      ]
     },
     "execution_count": 8,
     "metadata": {},
     "output_type": "execute_result"
    }
   ],
   "source": [
    "val dataWithoutNan = data.na.drop(\"all\")"
   ]
  },
  {
   "cell_type": "markdown",
   "id": "79639821-e29a-419b-af32-31292e51cbb2",
   "metadata": {},
   "source": [
    "# Приведение к нижнему регистру"
   ]
  },
  {
   "cell_type": "code",
   "execution_count": 12,
   "id": "643f4432-8c6b-4b64-9e0f-fdd194dab53b",
   "metadata": {},
   "outputs": [
    {
     "data": {
      "text/plain": [
       "lowerData: org.apache.spark.sql.DataFrame = [Review: string]\n"
      ]
     },
     "execution_count": 12,
     "metadata": {},
     "output_type": "execute_result"
    }
   ],
   "source": [
    "val lowerData = dataWithoutNan.withColumn(\"Review\", lower(col(\"Review\")))"
   ]
  },
  {
   "cell_type": "code",
   "execution_count": 13,
   "id": "8ed2bbd7-0985-4ca3-97c3-9f97b8877426",
   "metadata": {},
   "outputs": [
    {
     "name": "stdout",
     "output_type": "stream",
     "text": [
      "+--------------------+\n",
      "|              Review|\n",
      "+--------------------+\n",
      "|nice hotel expens...|\n",
      "|ok nothing specia...|\n",
      "|nice rooms not 4*...|\n",
      "|unique, great sta...|\n",
      "|great stay great ...|\n",
      "+--------------------+\n",
      "only showing top 5 rows\n",
      "\n"
     ]
    }
   ],
   "source": [
    "lowerData.show(5)"
   ]
  },
  {
   "cell_type": "markdown",
   "id": "e27a288d-69a8-40ef-8d97-4ac7236de49f",
   "metadata": {},
   "source": [
    "# Деленеи на слова"
   ]
  },
  {
   "cell_type": "code",
   "execution_count": 14,
   "id": "ef6ae051-ed04-4302-8b87-83a9a0a053d1",
   "metadata": {},
   "outputs": [
    {
     "data": {
      "text/plain": [
       "words: org.apache.spark.sql.DataFrame = [Review: array<string>]\n"
      ]
     },
     "execution_count": 14,
     "metadata": {},
     "output_type": "execute_result"
    }
   ],
   "source": [
    "val words = lowerData.withColumn(\"Review\", split(col(\"Review\"), \"\\\\W+\"))"
   ]
  },
  {
   "cell_type": "code",
   "execution_count": 15,
   "id": "d9ae342c-4c49-4c16-908d-33dbd0778f5e",
   "metadata": {},
   "outputs": [
    {
     "name": "stdout",
     "output_type": "stream",
     "text": [
      "+--------------------+\n",
      "|              Review|\n",
      "+--------------------+\n",
      "|[nice, hotel, exp...|\n",
      "|[ok, nothing, spe...|\n",
      "|[nice, rooms, not...|\n",
      "|[unique, great, s...|\n",
      "|[great, stay, gre...|\n",
      "|[love, monaco, st...|\n",
      "|[cozy, stay, rain...|\n",
      "|[excellent, staff...|\n",
      "|[hotel, stayed, h...|\n",
      "|[excellent, staye...|\n",
      "+--------------------+\n",
      "only showing top 10 rows\n",
      "\n"
     ]
    }
   ],
   "source": [
    "words.show(10)"
   ]
  },
  {
   "cell_type": "code",
   "execution_count": 16,
   "id": "ec6bb424-d66a-4ab3-81ae-5e0f950d60be",
   "metadata": {},
   "outputs": [
    {
     "data": {
      "text/plain": [
       "documents: org.apache.spark.sql.DataFrame = [Review: array<string>, doc_id: bigint]\n"
      ]
     },
     "execution_count": 16,
     "metadata": {},
     "output_type": "execute_result"
    }
   ],
   "source": [
    "val documents = words.withColumn(\"doc_id\", monotonically_increasing_id())"
   ]
  },
  {
   "cell_type": "code",
   "execution_count": 18,
   "id": "339549e4-233c-455d-8adc-94343c2c0fe9",
   "metadata": {},
   "outputs": [
    {
     "name": "stdout",
     "output_type": "stream",
     "text": [
      "+--------------------+------+\n",
      "|              Review|doc_id|\n",
      "+--------------------+------+\n",
      "|[nice, hotel, exp...|     0|\n",
      "|[ok, nothing, spe...|     1|\n",
      "|[nice, rooms, not...|     2|\n",
      "|[unique, great, s...|     3|\n",
      "+--------------------+------+\n",
      "only showing top 4 rows\n",
      "\n"
     ]
    }
   ],
   "source": [
    "documents.show(4)"
   ]
  },
  {
   "cell_type": "markdown",
   "id": "0dbde06b-c904-49fb-b4ad-7e9014978991",
   "metadata": {},
   "source": [
    "# Расчёт частоты слов в предложении"
   ]
  },
  {
   "cell_type": "code",
   "execution_count": 22,
   "id": "284d81a4-7f41-40f3-9891-a15c67eb5913",
   "metadata": {},
   "outputs": [
    {
     "data": {
      "text/plain": [
       "wordDoc: org.apache.spark.sql.DataFrame = [word: string, doc_id: bigint]\n"
      ]
     },
     "execution_count": 22,
     "metadata": {},
     "output_type": "execute_result"
    }
   ],
   "source": [
    "documents.registerTempTable(\"documents\")\n",
    "\n",
    "val wordDoc = spark.sql(\"\"\"\n",
    "    select word, doc_id from documents lateral view explode(Review) tab as word where rlike(word, '[a-z-]{2,}')\n",
    "\"\"\")"
   ]
  },
  {
   "cell_type": "code",
   "execution_count": 23,
   "id": "63e994b3-5101-4ef5-8b99-18138f83c271",
   "metadata": {},
   "outputs": [
    {
     "name": "stdout",
     "output_type": "stream",
     "text": [
      "+---------+------+\n",
      "|     word|doc_id|\n",
      "+---------+------+\n",
      "|     nice|     0|\n",
      "|    hotel|     0|\n",
      "|expensive|     0|\n",
      "|  parking|     0|\n",
      "|      got|     0|\n",
      "|     good|     0|\n",
      "+---------+------+\n",
      "only showing top 6 rows\n",
      "\n"
     ]
    }
   ],
   "source": [
    "wordDoc.show(6)"
   ]
  },
  {
   "cell_type": "code",
   "execution_count": 24,
   "id": "885d42ca-76fb-4df0-a80a-65397acaecb1",
   "metadata": {},
   "outputs": [
    {
     "data": {
      "text/plain": [
       "docLength: org.apache.spark.sql.Dataset[org.apache.spark.sql.Row] = [doc_id: bigint, total_words: bigint]\n"
      ]
     },
     "execution_count": 24,
     "metadata": {},
     "output_type": "execute_result"
    }
   ],
   "source": [
    "val docLength = wordDoc.groupBy(\"doc_id\").agg(count(col(\"word\")).as(\"total_words\")).cache()"
   ]
  },
  {
   "cell_type": "code",
   "execution_count": 25,
   "id": "7f4d2717-7664-4af1-8c5a-f805a3981610",
   "metadata": {},
   "outputs": [
    {
     "name": "stdout",
     "output_type": "stream",
     "text": [
      "+------+-----------+\n",
      "|doc_id|total_words|\n",
      "+------+-----------+\n",
      "|    26|         42|\n",
      "|    29|         34|\n",
      "|   474|        112|\n",
      "|   964|         86|\n",
      "|  1677|        120|\n",
      "+------+-----------+\n",
      "only showing top 5 rows\n",
      "\n"
     ]
    }
   ],
   "source": [
    "docLength.show(5)"
   ]
  },
  {
   "cell_type": "code",
   "execution_count": 26,
   "id": "1ba1e33f-c016-4457-b29f-5c54df06b5e2",
   "metadata": {},
   "outputs": [
    {
     "data": {
      "text/plain": [
       "wordFreq: org.apache.spark.sql.Dataset[org.apache.spark.sql.Row] = [word: string, doc_id: bigint ... 1 more field]\n"
      ]
     },
     "execution_count": 26,
     "metadata": {},
     "output_type": "execute_result"
    }
   ],
   "source": [
    "val wordFreq = wordDoc.groupBy(\"word\", \"doc_id\").count().orderBy(desc(\"count\")).cache()"
   ]
  },
  {
   "cell_type": "code",
   "execution_count": 27,
   "id": "14787a61-0309-4f13-ac21-762098be90d7",
   "metadata": {},
   "outputs": [
    {
     "name": "stdout",
     "output_type": "stream",
     "text": [
      "+-----+-----------+-----+\n",
      "| word|     doc_id|count|\n",
      "+-----+-----------+-----+\n",
      "|  the|17179871450|   46|\n",
      "|  did|25769803883|   37|\n",
      "|hotel|25769806217|   35|\n",
      "|hotel|25769806595|   34|\n",
      "| food|25769804737|   33|\n",
      "+-----+-----------+-----+\n",
      "only showing top 5 rows\n",
      "\n"
     ]
    }
   ],
   "source": [
    "wordFreq.show(5)"
   ]
  },
  {
   "cell_type": "code",
   "execution_count": 31,
   "id": "46ee135a-bb07-4c81-bfb0-074a2d785b3e",
   "metadata": {},
   "outputs": [
    {
     "data": {
      "text/plain": [
       "tf: org.apache.spark.sql.DataFrame = [doc_id: bigint, word: string ... 1 more field]\n"
      ]
     },
     "execution_count": 31,
     "metadata": {},
     "output_type": "execute_result"
    }
   ],
   "source": [
    "val tf = wordFreq.join(docLength, \"doc_id\")\n",
    "        .select(col(\"doc_id\"), col(\"word\"), (col(\"count\") / col(\"total_words\")).as(\"tf\"))"
   ]
  },
  {
   "cell_type": "code",
   "execution_count": 32,
   "id": "e126e73d-7dc1-4608-b1f5-8c8171300644",
   "metadata": {},
   "outputs": [
    {
     "name": "stdout",
     "output_type": "stream",
     "text": [
      "+------+--------+--------------------+\n",
      "|doc_id|    word|                  tf|\n",
      "+------+--------+--------------------+\n",
      "|    26|shopping|0.023809523809523808|\n",
      "|    26|  anywho|0.023809523809523808|\n",
      "|    26|   clean|0.023809523809523808|\n",
      "|    26|    stay|0.023809523809523808|\n",
      "|    26|    vibe|0.023809523809523808|\n",
      "+------+--------+--------------------+\n",
      "only showing top 5 rows\n",
      "\n"
     ]
    }
   ],
   "source": [
    "tf.show(5)"
   ]
  },
  {
   "cell_type": "markdown",
   "id": "f31e0d2f-0571-481a-9d94-5246a30b8ccb",
   "metadata": {},
   "source": [
    "# Расчёт количества документов со словом и выбор 100 самых встречаемых"
   ]
  },
  {
   "cell_type": "code",
   "execution_count": 39,
   "id": "7c2ab14e-9b35-4789-8178-10533c058276",
   "metadata": {},
   "outputs": [
    {
     "data": {
      "text/plain": [
       "totalDoc: Long = 20491\n"
      ]
     },
     "execution_count": 39,
     "metadata": {},
     "output_type": "execute_result"
    }
   ],
   "source": [
    "val totalDoc = wordDoc.select(countDistinct(\"doc_id\")).first().getLong(0)"
   ]
  },
  {
   "cell_type": "code",
   "execution_count": 40,
   "id": "b784d09e-2f52-4581-9a78-212a09c3a4bd",
   "metadata": {},
   "outputs": [
    {
     "data": {
      "text/plain": [
       "topNFreq: Int = 100\n"
      ]
     },
     "execution_count": 40,
     "metadata": {},
     "output_type": "execute_result"
    }
   ],
   "source": [
    "val topNFreq = 100"
   ]
  },
  {
   "cell_type": "code",
   "execution_count": 41,
   "id": "3e314016-5eb7-4653-9bb3-faaf76e3d3ec",
   "metadata": {},
   "outputs": [
    {
     "data": {
      "text/plain": [
       "docFreq: org.apache.spark.sql.DataFrame = [word: string, df: bigint ... 1 more field]\n"
      ]
     },
     "execution_count": 41,
     "metadata": {},
     "output_type": "execute_result"
    }
   ],
   "source": [
    "val docFreq = wordDoc.groupBy(\"word\").agg(countDistinct(\"doc_id\").as(\"df\"))\n",
    "    .orderBy(desc(\"df\"))\n",
    "    .limit(topNFreq).withColumn(\"total_doc\", lit(totalDoc))"
   ]
  },
  {
   "cell_type": "code",
   "execution_count": 42,
   "id": "999329ef-2978-4d31-affc-e21e9b8b870c",
   "metadata": {},
   "outputs": [
    {
     "name": "stdout",
     "output_type": "stream",
     "text": [
      "+-----+-----+---------+\n",
      "| word|   df|total_doc|\n",
      "+-----+-----+---------+\n",
      "|hotel|16400|    20491|\n",
      "| room|14202|    20491|\n",
      "|  not|12155|    20491|\n",
      "|staff|11768|    20491|\n",
      "|great|11127|    20491|\n",
      "+-----+-----+---------+\n",
      "only showing top 5 rows\n",
      "\n"
     ]
    }
   ],
   "source": [
    "docFreq.show(5)"
   ]
  },
  {
   "cell_type": "markdown",
   "id": "1b0a0f98-c34f-40ac-867f-49cf64346c63",
   "metadata": {},
   "source": [
    "# Расчёт Tf-Idf"
   ]
  },
  {
   "cell_type": "code",
   "execution_count": 43,
   "id": "ed82fad7-79a7-444e-a6d1-36e2023a2968",
   "metadata": {},
   "outputs": [
    {
     "data": {
      "text/plain": [
       "tfIdf: org.apache.spark.sql.Dataset[org.apache.spark.sql.Row] = [doc_id: bigint, word: string ... 1 more field]\n"
      ]
     },
     "execution_count": 43,
     "metadata": {},
     "output_type": "execute_result"
    }
   ],
   "source": [
    "val tfIdf = tf.join(docFreq, \"word\").select(col(\"doc_id\"), col(\"word\"), (col(\"tf\") * log(col(\"total_doc\") / col(\"df\"))).as(\"tf_idf\")).cache()"
   ]
  },
  {
   "cell_type": "code",
   "execution_count": 44,
   "id": "2e6660f8-6d3e-45d0-9ce6-61c7f926b8ce",
   "metadata": {},
   "outputs": [
    {
     "data": {
      "text/plain": [
       "tfIdfMatrix: org.apache.spark.sql.Dataset[org.apache.spark.sql.Row] = [doc_id: bigint, area: double ... 99 more fields]\n"
      ]
     },
     "execution_count": 44,
     "metadata": {},
     "output_type": "execute_result"
    }
   ],
   "source": [
    "val tfIdfMatrix = tfIdf.groupBy(\"doc_id\").pivot(\"word\").max(\"tf_idf\").na.fill(0).cache()"
   ]
  },
  {
   "cell_type": "code",
   "execution_count": 47,
   "id": "e85e9a8f-fb20-403e-acc1-bdaa2c2622e5",
   "metadata": {},
   "outputs": [
    {
     "name": "stdout",
     "output_type": "stream",
     "text": [
      "-RECORD 0----------------------------\n",
      " doc_id      | 474                   \n",
      " area        | 0.0                   \n",
      " arrived     | 0.0                   \n",
      " away        | 0.0                   \n",
      " bad         | 0.0                   \n",
      " bar         | 0.0                   \n",
      " bathroom    | 0.0                   \n",
      " beach       | 0.0                   \n",
      " beautiful   | 0.0                   \n",
      " bed         | 0.0                   \n",
      " beds        | 0.0                   \n",
      " best        | 0.0                   \n",
      " better      | 0.0                   \n",
      " big         | 0.0                   \n",
      " bit         | 0.0                   \n",
      " booked      | 0.016556589958485957  \n",
      " breakfast   | 0.00908294899928728   \n",
      " buffet      | 0.0                   \n",
      " check       | 0.0                   \n",
      " city        | 0.0                   \n",
      " clean       | 0.008629493418258532  \n",
      " close       | 0.0                   \n",
      " comfortable | 0.014696580838620016  \n",
      " day         | 0.0                   \n",
      " days        | 0.0                   \n",
      " definitely  | 0.0                   \n",
      " desk        | 0.0                   \n",
      " did         | 0.0                   \n",
      " excellent   | 0.013479512718337621  \n",
      " experience  | 0.0                   \n",
      " fantastic   | 0.0                   \n",
      " floor       | 0.0                   \n",
      " food        | 0.0                   \n",
      " free        | 0.0                   \n",
      " friendly    | 0.0                   \n",
      " going       | 0.0                   \n",
      " good        | 0.0                   \n",
      " got         | 0.0                   \n",
      " great       | 0.016355656558369607  \n",
      " helpful     | 0.0                   \n",
      " hotel       | 0.0019884324153977033 \n",
      " hotels      | 0.0                   \n",
      " just        | 0.0                   \n",
      " large       | 0.0                   \n",
      " like        | 0.0                   \n",
      " little      | 0.0                   \n",
      " lobby       | 0.0                   \n",
      " location    | 0.008002572610895733  \n",
      " loved       | 0.0                   \n",
      " lovely      | 0.0                   \n",
      " make        | 0.0                   \n",
      " minutes     | 0.0                   \n",
      " morning     | 0.0                   \n",
      " need        | 0.0                   \n",
      " new         | 0.0                   \n",
      " nice        | 0.0                   \n",
      " night       | 0.009995726600164503  \n",
      " nights      | 0.0                   \n",
      " no          | 0.0                   \n",
      " not         | 0.0                   \n",
      " overall     | 0.0                   \n",
      " people      | 0.0                   \n",
      " perfect     | 0.019132604898944056  \n",
      " place       | 0.0                   \n",
      " pool        | 0.0                   \n",
      " price       | 0.0                   \n",
      " problem     | 0.0                   \n",
      " quiet       | 0.018754465558785904  \n",
      " quite       | 0.0                   \n",
      " really      | 0.0                   \n",
      " recommend   | 0.0                   \n",
      " resort      | 0.0                   \n",
      " restaurant  | 0.0                   \n",
      " restaurants | 0.014604405418798908  \n",
      " reviews     | 0.0                   \n",
      " right       | 0.0                   \n",
      " room        | 0.0032732407642392285 \n",
      " rooms       | 0.007822874685228494  \n",
      " say         | 0.0                   \n",
      " service     | 0.0                   \n",
      " shower      | 0.0                   \n",
      " small       | 0.0                   \n",
      " staff       | 0.0                   \n",
      " stay        | 0.006235559522543642  \n",
      " stayed      | 0.007784238622033157  \n",
      " street      | 0.0                   \n",
      " the         | 0.0                   \n",
      " think       | 0.0                   \n",
      " time        | 0.0                   \n",
      " times       | 0.0                   \n",
      " took        | 0.0                   \n",
      " trip        | 0.0                   \n",
      " use         | 0.0                   \n",
      " view        | 0.0                   \n",
      " walk        | 0.0                   \n",
      " walking     | 0.0                   \n",
      " want        | 0.0                   \n",
      " water       | 0.0                   \n",
      " way         | 0.0                   \n",
      " went        | 0.0                   \n",
      " wonderful   | 0.0                   \n",
      "-RECORD 1----------------------------\n",
      " doc_id      | 2214                  \n",
      " area        | 0.025135221990617903  \n",
      " arrived     | 0.0                   \n",
      " away        | 0.0                   \n",
      " bad         | 0.0                   \n",
      " bar         | 0.0                   \n",
      " bathroom    | 0.0                   \n",
      " beach       | 0.0                   \n",
      " beautiful   | 0.0                   \n",
      " bed         | 0.0                   \n",
      " beds        | 0.0                   \n",
      " best        | 0.0                   \n",
      " better      | 0.0                   \n",
      " big         | 0.0                   \n",
      " bit         | 0.0                   \n",
      " booked      | 0.0                   \n",
      " breakfast   | 0.016276644606722807  \n",
      " buffet      | 0.0                   \n",
      " check       | 0.015152660931605458  \n",
      " city        | 0.0                   \n",
      " clean       | 0.007732026102759646  \n",
      " close       | 0.0                   \n",
      " comfortable | 0.0                   \n",
      " day         | 0.01973182140720296   \n",
      " days        | 0.0                   \n",
      " definitely  | 0.0                   \n",
      " desk        | 0.04424368651270835   \n",
      " did         | 0.00831077099972192   \n",
      " excellent   | 0.01207764339563051   \n",
      " experience  | 0.0                   \n",
      " fantastic   | 0.0                   \n",
      " floor       | 0.0                   \n",
      " food        | 0.0                   \n",
      " free        | 0.02989543713649894   \n",
      " friendly    | 0.0                   \n",
      " going       | 0.0                   \n",
      " good        | 0.012465013324044106  \n",
      " got         | 0.0                   \n",
      " great       | 0.0                   \n",
      " helpful     | 0.010866679851789287  \n",
      " hotel       | 0.005344906332589027  \n",
      " hotels      | 0.0                   \n",
      " just        | 0.015521628414674965  \n",
      " large       | 0.015462172173111641  \n",
      " like        | 0.0                   \n",
      " little      | 0.0                   \n",
      " lobby       | 0.016448387040105497  \n",
      " location    | 0.02151091517808773   \n",
      " loved       | 0.0                   \n",
      " lovely      | 0.0                   \n",
      " make        | 0.0                   \n",
      " minutes     | 0.03197783291248053   \n",
      " morning     | 0.0                   \n",
      " need        | 0.0                   \n",
      " new         | 0.0                   \n",
      " nice        | 0.0                   \n",
      " night       | 0.008956171033747396  \n",
      " nights      | 0.0                   \n",
      " no          | 0.017424707711892858  \n",
      " not         | 0.0                   \n",
      " overall     | 0.0                   \n",
      " people      | 0.025519225214701992  \n",
      " perfect     | 0.0                   \n",
      " place       | 0.0                   \n",
      " pool        | 0.0                   \n",
      " price       | 0.03005302379561822   \n",
      " problem     | 0.0                   \n",
      " quiet       | 0.0                   \n",
      " quite       | 0.0                   \n",
      " really      | 0.0                   \n",
      " recommend   | 0.0                   \n",
      " resort      | 0.0                   \n",
      " restaurant  | 0.0                   \n",
      " restaurants | 0.013085547255243822  \n",
      " reviews     | 0.0                   \n",
      " right       | 0.029005089122115846  \n",
      " room        | 0.002932823724758349  \n",
      " rooms       | 0.0                   \n",
      " say         | 0.0                   \n",
      " service     | 0.009334541343983975  \n",
      " shower      | 0.0                   \n",
      " small       | 0.0                   \n",
      " staff       | 0.008873628512888946  \n",
      " stay        | 0.011174122664398206  \n",
      " stayed      | 0.0                   \n",
      " street      | 0.015832020716185776  \n",
      " the         | 0.0                   \n",
      " think       | 0.0                   \n",
      " time        | 0.009457105535471085  \n",
      " times       | 0.0                   \n",
      " took        | 0.0                   \n",
      " trip        | 0.0                   \n",
      " use         | 0.017683118177212027  \n",
      " view        | 0.0                   \n",
      " walk        | 0.0                   \n",
      " walking     | 0.0                   \n",
      " want        | 0.0                   \n",
      " water       | 0.0                   \n",
      " way         | 0.0                   \n",
      " went        | 0.0                   \n",
      " wonderful   | 0.0                   \n",
      "-RECORD 2----------------------------\n",
      " doc_id      | 8589940091            \n",
      " area        | 0.0                   \n",
      " arrived     | 0.009914836141452594  \n",
      " away        | 0.0                   \n",
      " bad         | 0.010222995625357646  \n",
      " bar         | 0.0                   \n",
      " bathroom    | 0.0                   \n",
      " beach       | 0.007595907496165598  \n",
      " beautiful   | 0.0                   \n",
      " bed         | 0.0                   \n",
      " beds        | 0.010121330810439835  \n",
      " best        | 0.007225339405084411  \n",
      " better      | 0.0                   \n",
      " big         | 0.0                   \n",
      " bit         | 0.008951139157040995  \n",
      " booked      | 0.00858489849699272   \n",
      " breakfast   | 0.0                   \n",
      " buffet      | 0.01917265906883648   \n",
      " check       | 0.0                   \n",
      " city        | 0.0                   \n",
      " clean       | 0.008949104285601441  \n",
      " close       | 0.0                   \n",
      " comfortable | 0.0                   \n",
      " day         | 0.005709439064584189  \n",
      " days        | 0.009231223007043616  \n",
      " definitely  | 0.009333567239020804  \n",
      " desk        | 0.0                   \n",
      " did         | 0.004809473958172407  \n",
      " excellent   | 0.006989376965063952  \n",
      " experience  | 0.0                   \n",
      " fantastic   | 0.0                   \n",
      " floor       | 0.0                   \n",
      " food        | 0.005998209790872664  \n",
      " free        | 0.0                   \n",
      " friendly    | 0.0                   \n",
      " going       | 0.019122628213947106  \n",
      " good        | 0.007213549377340339  \n",
      " got         | 0.007365145403017946  \n",
      " great       | 0.005653807205362333  \n",
      " helpful     | 0.0                   \n",
      " hotel       | 0.0010310390302062165 \n",
      " hotels      | 0.0                   \n",
      " just        | 0.013473635776627572  \n",
      " large       | 0.0                   \n",
      " like        | 0.006174870435734007  \n",
      " little      | 0.0                   \n",
      " lobby       | 0.009518742500061052  \n",
      " location    | 0.0                   \n",
      " loved       | 0.0                   \n",
      " lovely      | 0.0                   \n",
      " make        | 0.0                   \n",
      " minutes     | 0.0                   \n",
      " morning     | 0.0                   \n",
      " need        | 0.0                   \n",
      " new         | 0.009467818694665774  \n",
      " nice        | 0.0                   \n",
      " night       | 0.010365938696466893  \n",
      " nights      | 0.0                   \n",
      " no          | 0.0050418714444134425 \n",
      " not         | 0.016924611588454916  \n",
      " overall     | 0.00979522043849449   \n",
      " people      | 0.007384035073698492  \n",
      " perfect     | 0.0                   \n",
      " place       | 0.012404784001481517  \n",
      " pool        | 0.0223404320236737    \n",
      " price       | 0.0                   \n",
      " problem     | 0.009970953551324562  \n",
      " quiet       | 0.0                   \n",
      " quite       | 0.0                   \n",
      " really      | 0.0066304636715171705 \n",
      " recommend   | 0.007280538448495342  \n",
      " resort      | 0.036766274197453666  \n",
      " restaurant  | 0.0                   \n",
      " restaurants | 0.0                   \n",
      " reviews     | 0.0                   \n",
      " right       | 0.016785352501224447  \n",
      " room        | 0.005091707855483244  \n",
      " rooms       | 0.0                   \n",
      " say         | 0.0                   \n",
      " service     | 0.005401933648138874  \n",
      " shower      | 0.019620479051781794  \n",
      " small       | 0.0                   \n",
      " staff       | 0.0025676008428498105 \n",
      " stay        | 0.00969975925729011   \n",
      " stayed      | 0.0                   \n",
      " street      | 0.0                   \n",
      " the         | 0.006757074236769971  \n",
      " think       | 0.0                   \n",
      " time        | 0.0                   \n",
      " times       | 0.0                   \n",
      " took        | 0.010125354826016626  \n",
      " trip        | 0.007993654629139231  \n",
      " use         | 0.0                   \n",
      " view        | 0.0                   \n",
      " walk        | 0.0                   \n",
      " walking     | 0.0                   \n",
      " want        | 0.0                   \n",
      " water       | 0.01756788409450322   \n",
      " way         | 0.016910799751002323  \n",
      " went        | 0.0                   \n",
      " wonderful   | 0.0                   \n",
      "-RECORD 3----------------------------\n",
      " doc_id      | 1677                  \n",
      " area        | 0.0523650458137873    \n",
      " arrived     | 0.0                   \n",
      " away        | 0.0                   \n",
      " bad         | 0.018401392125643762  \n",
      " bar         | 0.014074498987210695  \n",
      " bathroom    | 0.012899771073602226  \n",
      " beach       | 0.0                   \n",
      " beautiful   | 0.0                   \n",
      " bed         | 0.01390667151123644   \n",
      " beds        | 0.0                   \n",
      " best        | 0.0                   \n",
      " better      | 0.0                   \n",
      " big         | 0.017634771291597108  \n",
      " bit         | 0.0                   \n",
      " booked      | 0.0                   \n",
      " breakfast   | 0.008477419066001463  \n",
      " buffet      | 0.017255393161952834  \n",
      " check       | 0.0                   \n",
      " city        | 0.015792134736410102  \n",
      " clean       | 0.008054193857041297  \n",
      " close       | 0.0                   \n",
      " comfortable | 0.013716808782712015  \n",
      " day         | 0.01027699031625154   \n",
      " days        | 0.0                   \n",
      " definitely  | 0.0                   \n",
      " desk        | 0.015362391150245956  \n",
      " did         | 0.0                   \n",
      " excellent   | 0.0                   \n",
      " experience  | 0.016855568290318056  \n",
      " fantastic   | 0.0                   \n",
      " floor       | 0.0                   \n",
      " food        | 0.0                   \n",
      " free        | 0.015570540175259865  \n",
      " friendly    | 0.0                   \n",
      " going       | 0.0                   \n",
      " good        | 0.006492194439606305  \n",
      " got         | 0.0                   \n",
      " great       | 0.0                   \n",
      " helpful     | 0.0                   \n",
      " hotel       | 0.009279351271855949  \n",
      " hotels      | 0.0                   \n",
      " just        | 0.0                   \n",
      " large       | 0.0                   \n",
      " like        | 0.0                   \n",
      " little      | 0.0                   \n",
      " lobby       | 0.017133736500109895  \n",
      " location    | 0.0                   \n",
      " loved       | 0.0                   \n",
      " lovely      | 0.0                   \n",
      " make        | 0.0                   \n",
      " minutes     | 0.0                   \n",
      " morning     | 0.0                   \n",
      " need        | 0.0                   \n",
      " new         | 0.0                   \n",
      " nice        | 0.0                   \n",
      " night       | 0.0                   \n",
      " nights      | 0.0                   \n",
      " no          | 0.018150737199888394  \n",
      " not         | 0.02611225787933044   \n",
      " overall     | 0.0                   \n",
      " people      | 0.0                   \n",
      " perfect     | 0.0                   \n",
      " place       | 0.011164305601333364  \n",
      " pool        | 0.0                   \n",
      " price       | 0.0                   \n",
      " problem     | 0.0                   \n",
      " quiet       | 0.0                   \n",
      " quite       | 0.0                   \n",
      " really      | 0.0                   \n",
      " recommend   | 0.0                   \n",
      " resort      | 0.0                   \n",
      " restaurant  | 0.0                   \n",
      " restaurants | 0.0                   \n",
      " reviews     | 0.0                   \n",
      " right       | 0.0                   \n",
      " room        | 0.006110049426579893  \n",
      " rooms       | 0.007301349706213261  \n",
      " say         | 0.0                   \n",
      " service     | 0.0                   \n",
      " shower      | 0.0                   \n",
      " small       | 0.011946764937659556  \n",
      " staff       | 0.0                   \n",
      " stay        | 0.0                   \n",
      " stayed      | 0.0                   \n",
      " street      | 0.0                   \n",
      " the         | 0.0                   \n",
      " think       | 0.0                   \n",
      " time        | 0.019702303198898093  \n",
      " times       | 0.0                   \n",
      " took        | 0.0                   \n",
      " trip        | 0.0                   \n",
      " use         | 0.0                   \n",
      " view        | 0.0                   \n",
      " walk        | 0.024385085060987854  \n",
      " walking     | 0.0                   \n",
      " want        | 0.015594285640115406  \n",
      " water       | 0.0                   \n",
      " way         | 0.0                   \n",
      " went        | 0.0                   \n",
      " wonderful   | 0.0                   \n",
      "-RECORD 4----------------------------\n",
      " doc_id      | 8589934965            \n",
      " area        | 0.005100491475368893  \n",
      " arrived     | 0.006953261709590132  \n",
      " away        | 0.0                   \n",
      " bad         | 0.014338747110891245  \n",
      " bar         | 0.010967142067956386  \n",
      " bathroom    | 0.0                   \n",
      " beach       | 0.010654000124492009  \n",
      " beautiful   | 0.0                   \n",
      " bed         | 0.0054181837056765355 \n",
      " beds        | 0.007098076152775989  \n",
      " best        | 0.010134242282456058  \n",
      " better      | 0.0                   \n",
      " big         | 0.006870690113609263  \n",
      " bit         | 0.0                   \n",
      " booked      | 0.0                   \n",
      " breakfast   | 0.0                   \n",
      " buffet      | 0.006722880452708896  \n",
      " check       | 0.012299237769160275  \n",
      " city        | 0.0                   \n",
      " clean       | 0.0                   \n",
      " close       | 0.0                   \n",
      " comfortable | 0.005344211214043643  \n",
      " day         | 0.004004022201136964  \n",
      " days        | 0.0                   \n",
      " definitely  | 0.0                   \n",
      " desk        | 0.0                   \n",
      " did         | 0.0033728778407962337 \n",
      " excellent   | 0.0                   \n",
      " experience  | 0.0                   \n",
      " fantastic   | 0.006998082692101362  \n",
      " floor       | 0.005732175256024847  \n",
      " food        | 0.00841307347291231   \n",
      " free        | 0.006066444224127221  \n",
      " friendly    | 0.0                   \n",
      " going       | 0.006705337165929505  \n",
      " good        | 0.015176558430248505  \n",
      " got         | 0.010330333812025173  \n",
      " great       | 0.0019825038252569223 \n",
      " helpful     | 0.0                   \n",
      " hotel       | 7.230663328718922E-4  \n",
      " hotels      | 0.0                   \n",
      " just        | 0.006299362181280424  \n",
      " large       | 0.0                   \n",
      " like        | 0.021652143086340024  \n",
      " little      | 0.0                   \n",
      " lobby       | 0.0                   \n",
      " location    | 0.0                   \n",
      " loved       | 0.0                   \n",
      " lovely      | 0.0                   \n",
      " make        | 0.006119221295579709  \n",
      " minutes     | 0.0                   \n",
      " morning     | 0.0                   \n",
      " need        | 0.0                   \n",
      " new         | 0.0                   \n",
      " nice        | 0.0                   \n",
      " night       | 0.0                   \n",
      " nights      | 0.0                   \n",
      " no          | 0.0035358578960821545 \n",
      " not         | 0.005086803482986449  \n",
      " overall     | 0.0                   \n",
      " people      | 0.010356828415057626  \n",
      " perfect     | 0.0                   \n",
      " place       | 0.008699458910129895  \n",
      " pool        | 0.010444877309769524  \n",
      " price       | 0.006098422036448503  \n",
      " problem     | 0.0                   \n",
      " quiet       | 0.0                   \n",
      " quite       | 0.006589939459650046  \n",
      " really      | 0.0                   \n",
      " recommend   | 0.0                   \n",
      " resort      | 0.006446035086566553  \n",
      " restaurant  | 0.005487862843257141  \n",
      " restaurants | 0.00531069287956324   \n",
      " reviews     | 0.012240529528825945  \n",
      " right       | 0.0                   \n",
      " room        | 0.0035708081064427947 \n",
      " rooms       | 0.002844681703719453  \n",
      " say         | 0.01283692328971977   \n",
      " service     | 0.0                   \n",
      " shower      | 0.0                   \n",
      " small       | 0.0                   \n",
      " staff       | 0.0                   \n",
      " stay        | 0.00226747619001587   \n",
      " stayed      | 0.0                   \n",
      " street      | 0.0                   \n",
      " the         | 0.0                   \n",
      " think       | 0.007026930700030748  \n",
      " time        | 0.0                   \n",
      " times       | 0.0                   \n",
      " took        | 0.0                   \n",
      " trip        | 0.005605939610045695  \n",
      " use         | 0.0                   \n",
      " view        | 0.01151828514499332   \n",
      " walk        | 0.0                   \n",
      " walking     | 0.0                   \n",
      " want        | 0.0060756957039410685 \n",
      " water       | 0.018480501450061828  \n",
      " way         | 0.0                   \n",
      " went        | 0.0                   \n",
      " wonderful   | 0.0                   \n",
      "only showing top 5 rows\n",
      "\n"
     ]
    }
   ],
   "source": [
    "tfIdfMatrix.show(5, 50, true)"
   ]
  },
  {
   "cell_type": "code",
   "execution_count": null,
   "id": "ee1f268b-243f-45a8-bb8e-4a144f2a0d8c",
   "metadata": {},
   "outputs": [],
   "source": []
  }
 ],
 "metadata": {
  "kernelspec": {
   "display_name": "spylon-kernel",
   "language": "scala",
   "name": "spylon-kernel"
  },
  "language_info": {
   "codemirror_mode": "text/x-scala",
   "file_extension": ".scala",
   "help_links": [
    {
     "text": "MetaKernel Magics",
     "url": "https://metakernel.readthedocs.io/en/latest/source/README.html"
    }
   ],
   "mimetype": "text/x-scala",
   "name": "scala",
   "pygments_lexer": "scala",
   "version": "0.4.1"
  }
 },
 "nbformat": 4,
 "nbformat_minor": 5
}
